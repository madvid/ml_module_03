{
 "cells": [
  {
   "cell_type": "markdown",
   "metadata": {},
   "source": [
    "# Module 02 : Multivariate Linear Regression\n",
    "\n",
    "*Summary: Building on what you did on the previous modules you will extend the linear\n",
    "regression to handle more than one features. Then you will see how to build polynomial\n",
    "models and how to detect overfitting.*\n",
    "\n",
    "## Notions of the module\n",
    "Multivariate linear hypothesis, multivariate linear gradient descent, polynomial models. \n",
    "Training and test sets, overfitting.\n",
    "\n",
    "## Useful Ressources  \n",
    "  \n",
    "You are strongly advise to use the following resource:\n",
    "[Machine Learning MOOC - Stanford](https://www.coursera.org/learn/machine-learning/home/week/2)  \n",
    "Here are the sections of the MOOC that are relevant for today's exercises: \n",
    "\n",
    "### Week 2: \n",
    "\n",
    "**Multivariate Linear Regression:**\n",
    "* Multiple Features (Video + Reading)\n",
    "* Gradient Descent for Multiple Variables (Video + Reading)\n",
    "* Gradient Descent in Practice I- Feature Scaling (Video + Reading)\n",
    "* Gradient Descent in Practice II- Learning Rate (Video + Reading)\n",
    "* Features and Polynomial Regression (Video + Reading)\n",
    "* Review (Reading + Quiz)\n",
    "\n",
    "## General rules\n",
    "See directly the 42Paris intra subject or the corresponding repository on the [github of 42AI](https://github.com/42-AI/bootcamp_machine-learning)\n",
    "\n",
    "\n",
    "## Helper\n",
    "\n",
    "Ensure that you have the right Python interpreter (at least 3.7)."
   ]
  },
  {
   "cell_type": "markdown",
   "metadata": {},
   "source": [
    "## Note:\n",
    "```git push --quiet github``` to push on github when working from the vogsphere repository"
   ]
  },
  {
   "cell_type": "markdown",
   "metadata": {},
   "source": [
    "## Exercise 00 - Multivariate Hypothesis - Iterative Version"
   ]
  },
  {
   "cell_type": "code",
   "execution_count": 1,
   "metadata": {},
   "outputs": [
    {
     "name": "stdout",
     "output_type": "stream",
     "text": [
      "# Example 0:\n",
      "my prediction:            [[5. 5. 5. 5.]]\n",
      "expected prediction:      [[5. 5. 5. 5.]]\n",
      "\n",
      "# Example 1:\n",
      "my prediction:            [[ 1.  4.  7. 10.]]\n",
      "expected prediction:      [[ 1.  4.  7. 10.]]\n",
      "\n",
      "# Example 2:\n",
      "my prediction:            [[ 9.64 24.28 38.92 53.56]]\n",
      "expected prediction:      [[ 9.64 24.28 38.92 53.56]]\n",
      "\n",
      "# Example 3:\n",
      "my prediction:            [[12.5 32.  51.5 71. ]]\n",
      "expected prediction:      [[12.5 32.  51.5 71. ]]\n"
     ]
    }
   ],
   "source": [
    "from ex00.prediction import simple_predict\n",
    "import numpy as np\n",
    "\n",
    "x = np.arange(1,13).reshape((4,3))\n",
    "print(\"# Example 0:\")\n",
    "theta1 = np.array([[5],[0],[0],[0]])\n",
    "pred = simple_predict(x, theta1)\n",
    "# Ouput:\n",
    "# array([[5.],[ 5.],[ 5.],[ 5.]])\n",
    "# Do you understand why y_hat contains only 5’s here?\n",
    "expected_pred = np.array([[5.],[ 5.],[ 5.],[ 5.]])\n",
    "print(\"my prediction:\".ljust(25), pred.reshape(1, -1))\n",
    "print(\"expected prediction:\".ljust(25), pred.reshape(1, -1))\n",
    "\n",
    "\n",
    "print(\"\\n# Example 1:\")\n",
    "theta2 = np.array([[0],[1],[0],[0]])\n",
    "pred = simple_predict(x, theta2)\n",
    "# Output:\n",
    "# array([[ 1.],[ 4.],[ 7.],[ 10.]])\n",
    "# Do you understand why y_hat == x[:,0] here?\n",
    "expected_pred = np.array([[ 1.],[ 4.],[ 7.],[ 10.]])\n",
    "print(\"my prediction:\".ljust(25), pred.reshape(1, -1))\n",
    "print(\"expected prediction:\".ljust(25), expected_pred.reshape(1, -1))\n",
    "\n",
    "\n",
    "print(\"\\n# Example 2:\")\n",
    "theta3 = np.array([[-1.5],[0.6],[2.3],[1.98]])\n",
    "pred = simple_predict(x, theta3)\n",
    "# Output:\n",
    "# array([[ 9.64],[ 24.28],[ 38.92],[ 53.56]])\n",
    "expected_pred = np.array([[ 9.64],[ 24.28],[ 38.92],[ 53.56]])\n",
    "print(\"my prediction:\".ljust(25), pred.reshape(1, -1))\n",
    "print(\"expected prediction:\".ljust(25), expected_pred.reshape(1, -1))\n",
    "\n",
    "\n",
    "print(\"\\n# Example 3:\")\n",
    "theta4 = np.array([[-3],[1],[2],[3.5]])\n",
    "pred = simple_predict(x, theta4)\n",
    "# Output:\n",
    "# array([[12.5],[ 32. ],[ 51.5],[ 71. ]])\n",
    "expected_pred = np.array([[12.5],[ 32. ],[ 51.5],[ 71. ]])\n",
    "print(\"my prediction:\".ljust(25), pred.reshape(1, -1))\n",
    "print(\"expected prediction:\".ljust(25), expected_pred.reshape(1, -1))"
   ]
  },
  {
   "cell_type": "markdown",
   "metadata": {},
   "source": [
    "## Exercise 01 - Mulltivariate hypothesis - Vectorized Version"
   ]
  },
  {
   "cell_type": "code",
   "execution_count": 7,
   "metadata": {},
   "outputs": [
    {
     "name": "stdout",
     "output_type": "stream",
     "text": [
      "my prediction:            [[5. 5. 5. 5.]]\n",
      "expected prediction:      [[5. 5. 5. 5.]]\n",
      "my prediction:            [[ 1.  4.  7. 10.]]\n",
      "expected prediction:      [[ 1.  4.  7. 10.]]\n",
      "my prediction:            [[ 9.64 24.28 38.92 53.56]]\n",
      "expected prediction:      [[ 9.64 24.28 38.92 53.56]]\n",
      "my prediction:            [[12.5 32.  51.5 71. ]]\n",
      "expected prediction:      [[12.5 32.  51.5 71. ]]\n"
     ]
    }
   ],
   "source": [
    "import numpy as np\n",
    "from ex01.prediction import predict_\n",
    "\n",
    "x = np.arange(1,13).reshape((4,-3))\n",
    "# Example 0:\n",
    "theta1 = np.array([[5],[ 0],[ 0],[ 0]])\n",
    "pred = predict_(x, theta1)\n",
    "# Ouput:\n",
    "# array([[5.],[ 5.],[ 5.],[ 5.]])\n",
    "# Do you understand why y_hat contains only 5’s here?\n",
    "expected_pred = np.array([[5.],[ 5.],[ 5.],[ 5.]])\n",
    "print(\"my prediction:\".ljust(25), pred.reshape(1, -1))\n",
    "print(\"expected prediction:\".ljust(25), expected_pred.reshape(1, -1))\n",
    "\n",
    "# Example 1:\n",
    "theta2 = np.array([[0],[ 1],[ 0],[ 0]])\n",
    "pred = predict_(x, theta2)\n",
    "# Output:\n",
    "# array([[ 1.],[ 4.],[ 7.],[ 10.]])\n",
    "# Do you understand why y_hat == x[:,0] here?\n",
    "expected_pred = np.array([[1.],[ 4.],[ 7.],[ 10.]])\n",
    "print(\"my prediction:\".ljust(25), pred.reshape(1, -1))\n",
    "print(\"expected prediction:\".ljust(25), expected_pred.reshape(1, -1))\n",
    "\n",
    "# Example 2:\n",
    "theta3 = np.array([[-1.5],[ 0.6],[ 2.3],[ 1.98]])\n",
    "pred = predict_(x, theta3)\n",
    "# Output:\n",
    "# array([[ 9.64],[ 24.28],[ 38.92],[ 53.56]])\n",
    "expected_pred = np.array([[ 9.64],[ 24.28],[ 38.92],[ 53.56]])\n",
    "print(\"my prediction:\".ljust(25), pred.reshape(1, -1))\n",
    "print(\"expected prediction:\".ljust(25), expected_pred.reshape(1, -1))\n",
    "\n",
    "# Example 3:\n",
    "theta4 = np.array([[-3],[ 1],[ 2],[ 3.5]])\n",
    "pred = predict_(x, theta4)\n",
    "# Output:\n",
    "# array([[12.5],[ 32. ],[ 51.5],[ 71. ]])\n",
    "expected_pred = np.array([[12.5],[ 32. ],[ 51.5],[ 71. ]])\n",
    "print(\"my prediction:\".ljust(25), pred.reshape(1, -1))\n",
    "print(\"expected prediction:\".ljust(25), expected_pred.reshape(1, -1))"
   ]
  },
  {
   "cell_type": "markdown",
   "metadata": {},
   "source": [
    "## Exercise 02 - Vectorized Loss Function"
   ]
  },
  {
   "cell_type": "code",
   "execution_count": 1,
   "metadata": {},
   "outputs": [
    {
     "name": "stdout",
     "output_type": "stream",
     "text": [
      "# Example 0:\n",
      "my loss:             2.142857142857143\n",
      "expected loss:       2.1428571428571437\n",
      "# Example 1:\n",
      "my loss:             0.0\n",
      "expected loss:       0.0\n"
     ]
    }
   ],
   "source": [
    "import numpy as np\n",
    "from ex02.loss import loss_\n",
    "\n",
    "X = np.array([[0],[ 15],[ -9],[ 7],[ 12],[ 3],[ -21]])\n",
    "Y = np.array([[2],[ 14],[ -13],[ 5],[ 12],[ 4],[ -19]])\n",
    "\n",
    "print(\"# Example 0:\")\n",
    "loss = loss_(X, Y)\n",
    "expected_loss = 2.1428571428571436\n",
    "print(\"my loss: \".ljust(20), loss)\n",
    "print(\"expected loss: \".ljust(20), expected_loss)\n",
    "\n",
    "print(\"# Example 1:\")\n",
    "loss = loss_(X, X)\n",
    "expected_loss = 0.0\n",
    "print(\"my loss: \".ljust(20), loss)\n",
    "print(\"expected loss: \".ljust(20), expected_loss)"
   ]
  },
  {
   "cell_type": "markdown",
   "metadata": {},
   "source": [
    "## Exercise 03 - Multivariate Gradient"
   ]
  },
  {
   "cell_type": "code",
   "execution_count": 1,
   "metadata": {},
   "outputs": [
    {
     "name": "stdout",
     "output_type": "stream",
     "text": [
      "# Example 0:\n",
      "my gradient:  [[ -33.71428571]\n",
      " [ -37.35714286]\n",
      " [ 183.14285714]\n",
      " [-393.        ]]\n",
      "expected gradient:\n",
      " [[ -33.71428571]\n",
      " [ -37.35714286]\n",
      " [ 183.14285714]\n",
      " [-393.        ]]\n",
      "\n",
      "# Example 1:\n",
      "my gradient:  [[ -0.71428571]\n",
      " [  0.85714286]\n",
      " [ 23.28571429]\n",
      " [-26.42857143]]\n",
      "expected gradient:\n",
      " [[ -0.71428571]\n",
      " [  0.85714286]\n",
      " [ 23.28571429]\n",
      " [-26.42857143]]\n"
     ]
    }
   ],
   "source": [
    "import numpy as np\n",
    "from ex03.gradient import gradient\n",
    "\n",
    "x = np.array([[ -6, -7, -9],\n",
    "              [ 13, -2, 14],\n",
    "              [ -7, 14, -1],\n",
    "              [ -8, -4, 6],\n",
    "              [ -5, -9, 6],\n",
    "              [ 1, -5, 11],\n",
    "              [ 9, -11, 8]])\n",
    "y = np.array([[2],[ 14],[ -13],[ 5],[ 12],[ 4],[ -19]])\n",
    "\n",
    "print(\"# Example 0:\")\n",
    "theta1 = np.array([[0],[ 3],[ 0.5],[ -6]])\n",
    "grad = gradient(x, y, theta1)\n",
    "# Output:\n",
    "expected_grad = np.array([[ -33.71428571],[ -37.35714286],[ 183.14285714],[ -393.]])\n",
    "print(\"my gradient: \", grad)\n",
    "print(\"expected gradient:\\n\", expected_grad)\n",
    "\n",
    "print(\"\\n# Example 1:\")\n",
    "theta2 = np.array([[0],[ 0],[ 0],[ 0]])\n",
    "grad = gradient(x, y, theta2)\n",
    "# Output:\n",
    "expected_grad = np.array([[ -0.71428571],[ 0.85714286],[ 23.28571429],[ -26.42857143]])\n",
    "print(\"my gradient: \", grad)\n",
    "print(\"expected gradient:\\n\", expected_grad)"
   ]
  },
  {
   "cell_type": "markdown",
   "metadata": {},
   "source": [
    "## Exercise 04 - Multivariate Gradient Descent"
   ]
  },
  {
   "cell_type": "code",
   "execution_count": null,
   "metadata": {},
   "outputs": [],
   "source": []
  },
  {
   "cell_type": "markdown",
   "metadata": {},
   "source": [
    "## Exercise 05 - Multivariate Linear Regression With Class"
   ]
  },
  {
   "cell_type": "code",
   "execution_count": null,
   "metadata": {},
   "outputs": [],
   "source": []
  },
  {
   "cell_type": "markdown",
   "metadata": {},
   "source": [
    "## Exercise 06 - Practicing Multivariate Linear Regression"
   ]
  },
  {
   "cell_type": "code",
   "execution_count": null,
   "metadata": {},
   "outputs": [],
   "source": []
  },
  {
   "cell_type": "markdown",
   "metadata": {},
   "source": [
    "## Exercise 07 - Polynommial models"
   ]
  },
  {
   "cell_type": "code",
   "execution_count": null,
   "metadata": {},
   "outputs": [],
   "source": []
  },
  {
   "cell_type": "markdown",
   "metadata": {},
   "source": [
    "## Exercise 08 - Let's Train Polynomial Models!"
   ]
  },
  {
   "cell_type": "code",
   "execution_count": null,
   "metadata": {},
   "outputs": [],
   "source": []
  },
  {
   "cell_type": "markdown",
   "metadata": {},
   "source": [
    "## Exercise 09 - DataSpliter"
   ]
  },
  {
   "cell_type": "code",
   "execution_count": null,
   "metadata": {},
   "outputs": [],
   "source": []
  },
  {
   "cell_type": "markdown",
   "metadata": {},
   "source": [
    "## Exercise 10 - Machine Learning for Grown-ups: Training and Test Sets"
   ]
  },
  {
   "cell_type": "code",
   "execution_count": null,
   "metadata": {},
   "outputs": [],
   "source": []
  }
 ],
 "metadata": {
  "interpreter": {
   "hash": "50baabd70a1595a756c74ef7edb7013232b1c3c869f8ef50cd86aea3cdd4dc6d"
  },
  "kernelspec": {
   "display_name": "Python 3.7.4 64-bit ('v_bootcampp': venv)",
   "language": "python",
   "name": "python3"
  },
  "language_info": {
   "codemirror_mode": {
    "name": "ipython",
    "version": 3
   },
   "file_extension": ".py",
   "mimetype": "text/x-python",
   "name": "python",
   "nbconvert_exporter": "python",
   "pygments_lexer": "ipython3",
   "version": "3.7.4"
  },
  "orig_nbformat": 4
 },
 "nbformat": 4,
 "nbformat_minor": 2
}
