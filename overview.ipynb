{
 "cells": [
  {
   "cell_type": "markdown",
   "id": "52acd02b-b82c-42e1-9821-c3b5cbd63043",
   "metadata": {},
   "source": [
    "# Module 03: Logistic Regression"
   ]
  },
  {
   "cell_type": "markdown",
   "id": "ebb5f0a0-9b73-4939-8470-43a746f7c89b",
   "metadata": {},
   "source": [
    "# Exercise 00: sigmoid"
   ]
  },
  {
   "cell_type": "code",
   "execution_count": 1,
   "id": "70e4a944-93b4-461a-bed2-382b3e5b217c",
   "metadata": {},
   "outputs": [
    {
     "name": "stdout",
     "output_type": "stream",
     "text": [
      "# Example 1:\n",
      "Calculated sigmoid:       [[0.01798621]]\n",
      "Expected result:          [[0.01798621]]\n",
      "\n",
      "# Example 2:\n",
      "Calculated sigmoid:       [[0.88079708]]\n",
      "Expected result:          [[0.88079708]]\n",
      "\n",
      "# Example 3:\n",
      "Calculated sigmoid:       [[0.01798621 0.88079708 0.5       ]]\n",
      "Expected result:          [[0.01798621 0.88079708 0.5       ]]\n"
     ]
    }
   ],
   "source": [
    "import numpy as np\n",
    "from ex00.sigmoid import sigmoid_\n",
    "\n",
    "print(\"# Example 1:\")\n",
    "x = np.array(-4)\n",
    "res = sigmoid_(x)\n",
    "# Output:\n",
    "expected = np.array([[0.01798620996209156]])\n",
    "print(\"Calculated sigmoid:\".ljust(25), res.reshape(1, -1))\n",
    "print(\"Expected result:\".ljust(25), expected.reshape(1, -1))\n",
    "\n",
    "print(\"\\n# Example 2:\")\n",
    "x = np.array(2)\n",
    "res = sigmoid_(x)\n",
    "# Output:\n",
    "expected = np.array([[0.8807970779778823]])\n",
    "print(\"Calculated sigmoid:\".ljust(25), res.reshape(1, -1))\n",
    "print(\"Expected result:\".ljust(25), expected.reshape(1, -1))\n",
    "\n",
    "print(\"\\n# Example 3:\")\n",
    "x = np.array([[-4], [2], [0]])\n",
    "res = sigmoid_(x)\n",
    "# Output:\n",
    "expected = np.array([[0.01798620996209156], [0.8807970779778823], [0.5]])\n",
    "print(\"Calculated sigmoid:\".ljust(25), res.reshape(1, -1))\n",
    "print(\"Expected result:\".ljust(25), expected.reshape(1, -1))"
   ]
  },
  {
   "cell_type": "markdown",
   "id": "52f735d9-d450-4086-a741-41bc465fecd2",
   "metadata": {},
   "source": [
    "# Exercise 01: ___"
   ]
  },
  {
   "cell_type": "code",
   "execution_count": 2,
   "id": "a9ecf30d-4a78-42ff-a0b4-f925e3942d90",
   "metadata": {},
   "outputs": [
    {
     "name": "stdout",
     "output_type": "stream",
     "text": [
      "# Example 1\n",
      "my log pred:              [[0.98201379]]\n",
      "expected log pred:        [[0.98201379]]\n",
      "\n",
      "# Example 1\n",
      "my log pred:              [[0.98201379 0.99624161 0.97340301 0.99875204 0.90720705]]\n",
      "expected log pred:        [[0.98201379 0.99624161 0.97340301 0.99875204 0.90720705]]\n",
      "\n",
      "# Example 2\n",
      "my log pred:              [[0.03916572 0.00045262 0.2890505 ]]\n",
      "expected log pred:        [[0.03916572 0.00045262 0.2890505 ]]\n"
     ]
    }
   ],
   "source": [
    "import numpy as np\n",
    "from ex01.log_pred import logistic_predict_\n",
    "\n",
    "print(\"# Example 1\")\n",
    "x = np.array([[4]])\n",
    "theta = np.array([[2], [0.5]])\n",
    "res = logistic_predict_(x, theta)\n",
    "# Output:\n",
    "expected = np.array([[0.98201379]])\n",
    "print(\"my log pred:\".ljust(25), res.reshape(1, -1))\n",
    "print(\"expected log pred:\".ljust(25), expected.reshape(1, -1))\n",
    "\n",
    "print(\"\\n# Example 1\")\n",
    "x2 = np.array([[4], [7.16], [3.2], [9.37], [0.56]])\n",
    "theta2 = np.array([[2], [0.5]])\n",
    "res = logistic_predict_(x2, theta2)\n",
    "# Output:\n",
    "expected = np.array([[0.98201379],\n",
    "                     [0.99624161],\n",
    "                     [0.97340301],\n",
    "                     [0.99875204],\n",
    "                     [0.90720705]])\n",
    "print(\"my log pred:\".ljust(25), res.reshape(1, -1))\n",
    "print(\"expected log pred:\".ljust(25), expected.reshape(1, -1))\n",
    "\n",
    "print(\"\\n# Example 2\")\n",
    "x3 = np.array([[0, 2, 3, 4],\n",
    "               [2, 4, 5, 5],\n",
    "               [1, 3, 2, 7]])\n",
    "theta3 = np.array([[-2.4],\n",
    "                   [-1.5],\n",
    "                   [0.3],\n",
    "                   [-1.4],\n",
    "                   [0.7]])\n",
    "res = logistic_predict_(x3, theta3)\n",
    "# Output:\n",
    "expected = np.array([[0.03916572],\n",
    "                     [0.00045262],\n",
    "                     [0.2890505]])\n",
    "print(\"my log pred:\".ljust(25), res.reshape(1, -1))\n",
    "print(\"expected log pred:\".ljust(25), expected.reshape(1, -1))"
   ]
  },
  {
   "cell_type": "markdown",
   "id": "8ff9d49e-2ad7-4241-9886-b874d4d12923",
   "metadata": {},
   "source": [
    "# Exercise 02: ___"
   ]
  },
  {
   "cell_type": "code",
   "execution_count": 3,
   "id": "c97a6b38-cfac-4244-b033-7d151bef74e6",
   "metadata": {},
   "outputs": [
    {
     "name": "stdout",
     "output_type": "stream",
     "text": [
      "# Example 1:\n",
      "my log loss =        0.01814992791780973\n",
      "expected log loss =  0.01814992791780973\n",
      "\n",
      "# Example 2:\n",
      "my log loss =        2.4825011602474483\n",
      "expected log loss =  2.4825011602474483\n",
      "\n",
      "# Example 3:\n",
      "my log loss =        2.9938533108607053\n",
      "expected log loss =  2.9938533108607053\n"
     ]
    }
   ],
   "source": [
    "import numpy as np\n",
    "from ex02.log_loss import log_loss_\n",
    "\n",
    "print(\"# Example 1:\")\n",
    "y1 = np.array([[1]])\n",
    "x1 = np.array([[4]])\n",
    "theta1 = np.array([[2], [0.5]])\n",
    "y_hat1 = logistic_predict_(x1, theta1)\n",
    "res = log_loss_(y1, y_hat1)\n",
    "# Output:\n",
    "expected = 0.01814992791780973\n",
    "print(\"my log loss =\".ljust(20), res)\n",
    "print(\"expected log loss =\".ljust(20), expected)\n",
    "\n",
    "print(\"\\n# Example 2:\")\n",
    "y2 = np.array([[1], [0], [1], [0], [1]])\n",
    "x2 = np.array([[4], [7.16], [3.2], [9.37], [0.56]])\n",
    "theta2 = np.array([[2], [0.5]])\n",
    "y_hat2 = logistic_predict_(x2, theta2)\n",
    "res = log_loss_(y2, y_hat2)\n",
    "# Output:\n",
    "expected = 2.4825011602474483\n",
    "print(\"my log loss =\".ljust(20), res)\n",
    "print(\"expected log loss =\".ljust(20), expected)\n",
    "\n",
    "print(\"\\n# Example 3:\")\n",
    "y3 = np.array([[0], [1], [1]])\n",
    "x3 = np.array([[0, 2, 3, 4], [2, 4, 5, 5], [1, 3, 2, 7]])\n",
    "theta3 = np.array([[-2.4], [-1.5], [0.3], [-1.4], [0.7]])\n",
    "y_hat3 = logistic_predict_(x3, theta3)\n",
    "res = log_loss_(y3, y_hat3)\n",
    "# Output:\n",
    "expected = 2.9938533108607053\n",
    "print(\"my log loss =\".ljust(20), res)\n",
    "print(\"expected log loss =\".ljust(20), expected)"
   ]
  },
  {
   "cell_type": "markdown",
   "id": "f445776d-3f6c-4ea6-8b03-4f782ef829d1",
   "metadata": {},
   "source": [
    "# Exercise 03: ___"
   ]
  },
  {
   "cell_type": "code",
   "execution_count": null,
   "id": "782a26ce-79b0-4d9e-85ea-f4f24e423d8a",
   "metadata": {},
   "outputs": [],
   "source": [
    "import numpy as np\n",
    "from ex03.vec_log_loss import vec_log_loss_\n",
    "\n",
    "print(\"# Example 1:\")\n",
    "y1 = np.array([[1]])\n",
    "x1 = np.array([[4]])\n",
    "theta1 = np.array([[2], [0.5]])\n",
    "y_hat1 = logistic_predict_(x1, theta1)\n",
    "res = vec_log_loss_(y1, y_hat1)\n",
    "# Output:\n",
    "expected = 0.01814992791780973\n",
    "print(\"my log loss =\".ljust(20), res)\n",
    "print(\"expected log loss =\".ljust(20), expected)\n",
    "\n",
    "print(\"\\n# Example 2:\")\n",
    "y2 = np.array([[1], [0], [1], [0], [1]])\n",
    "x2 = np.array([[4], [7.16], [3.2], [9.37], [0.56]])\n",
    "theta2 = np.array([[2], [0.5]])\n",
    "y_hat2 = logistic_predict_(x2, theta2)\n",
    "res = vec_log_loss_(y2, y_hat2)\n",
    "# Output:\n",
    "expected = 2.4825011602474483\n",
    "print(\"my log loss =\".ljust(20), res)\n",
    "print(\"expected log loss =\".ljust(20), expected)\n",
    "\n",
    "print(\"\\n# Example 3:\")\n",
    "y3 = np.array([[0], [1], [1]])\n",
    "x3 = np.array([[0, 2, 3, 4], [2, 4, 5, 5], [1, 3, 2, 7]])\n",
    "theta3 = np.array([[-2.4], [-1.5], [0.3], [-1.4], [0.7]])\n",
    "y_hat3 = logistic_predict_(x3, theta3)\n",
    "res = vec_log_loss_(y3, y_hat3)\n",
    "# Output:\n",
    "expected = 2.9938533108607053\n",
    "print(\"my log loss =\".ljust(20), res)\n",
    "print(\"expected log loss =\".ljust(20), expected)"
   ]
  },
  {
   "cell_type": "markdown",
   "id": "06eb309b-5f84-4fd7-bbaa-68ea1e062b20",
   "metadata": {},
   "source": [
    "# Exercise 04: ___"
   ]
  },
  {
   "cell_type": "code",
   "execution_count": 1,
   "id": "7f9372e9-4007-462e-8403-d6b5f345c4d3",
   "metadata": {},
   "outputs": [
    {
     "name": "stdout",
     "output_type": "stream",
     "text": [
      "# Example 1:\n",
      "my logistic gradient:     [[-0.01798621 -0.07194484]]\n",
      "expected log gradient:    [[-0.01798621 -0.07194484]]\n",
      "\n",
      "# Example 2:\n",
      "my logistic gradient:     [[0.3715235  3.25647547]]\n",
      "expected log gradient:    [[0.3715235  3.25647547]]\n",
      "\n",
      "# Example 3:\n",
      "my logistic gradient:     [[-0.55711039 -0.90334809 -2.01756886 -2.10071291 -3.27257351]]\n",
      "expected log gradient:    [[-0.55711039 -0.90334809 -2.01756886 -2.10071291 -3.27257351]]\n"
     ]
    }
   ],
   "source": [
    "import numpy as np\n",
    "from ex04.log_gradient import log_gradient\n",
    "\n",
    "print(\"# Example 1:\")\n",
    "y1 = np.array([[1]])\n",
    "x1 = np.array([[4]])\n",
    "theta1 = np.array([[2], [0.5]])\n",
    "res = log_gradient(x1, y1, theta1)\n",
    "# Output:\n",
    "expected = np.array([[-0.01798621], [-0.07194484]])\n",
    "print(\"my logistic gradient:\".ljust(25), res.reshape(1, -1))\n",
    "print(\"expected log gradient:\".ljust(25), expected.reshape(1, -1))\n",
    "\n",
    "print(\"\\n# Example 2:\")\n",
    "y2 = np.array([[1], [0], [1], [0], [1]])\n",
    "x2 = np.array([[4], [7.16], [3.2], [9.37], [0.56]])\n",
    "theta2 = np.array([[2], [0.5]])\n",
    "res = log_gradient(x2, y2, theta2)\n",
    "# Output:\n",
    "expected = np.array([[0.3715235], [3.25647547]])\n",
    "print(\"my logistic gradient:\".ljust(25), res.reshape(1, -1))\n",
    "print(\"expected log gradient:\".ljust(25), expected.reshape(1, -1))\n",
    "\n",
    "print(\"\\n# Example 3:\")\n",
    "y3 = np.array([[0], [1], [1]])\n",
    "x3 = np.array([[0, 2, 3, 4], [2, 4, 5, 5], [1, 3, 2, 7]])\n",
    "theta3 = np.array([[-2.4], [-1.5], [0.3], [-1.4], [0.7]])\n",
    "res = log_gradient(x3, y3, theta3)\n",
    "# Output:\n",
    "expected = np.array([[-0.55711039],\n",
    "                     [-0.90334809],\n",
    "                     [-2.01756886],\n",
    "                     [-2.10071291],\n",
    "                     [-3.27257351]])\n",
    "print(\"my logistic gradient:\".ljust(25), res.reshape(1, -1))\n",
    "print(\"expected log gradient:\".ljust(25), expected.reshape(1, -1))"
   ]
  },
  {
   "cell_type": "markdown",
   "id": "9a9ee4d1-b1f9-4f60-b949-9088da3e2e5b",
   "metadata": {},
   "source": [
    "# Exercise 05: ___"
   ]
  },
  {
   "cell_type": "code",
   "execution_count": 2,
   "id": "4316c11c-f15b-4b98-ad1d-822cbc86c4c4",
   "metadata": {},
   "outputs": [
    {
     "name": "stdout",
     "output_type": "stream",
     "text": [
      "# Example 1:\n",
      "my vec log gradient =          [[-0.01798621 -0.07194484]]\n",
      "expected vec log gradient =    [[-0.01798621 -0.07194484]]\n",
      "\n",
      "# Example 2:\n",
      "my vec log gradient =          [[0.3715235  3.25647547]]\n",
      "expected vec log gradient =    [[0.3715235  3.25647547]]\n",
      "\n",
      "# Example 3:\n",
      "my vec log gradient =          [[-0.55711039 -0.90334809 -2.01756886 -2.10071291 -3.27257351]]\n",
      "expected vec log gradient =    [[-0.55711039 -0.90334809 -2.01756886 -2.10071291 -3.27257351]]\n"
     ]
    }
   ],
   "source": [
    "import numpy as np\n",
    "from ex05.vec_log_gradient import vec_log_gradient\n",
    "\n",
    "print(\"# Example 1:\")\n",
    "y1 = np.array([[1]])\n",
    "x1 = np.array([[4]])\n",
    "theta1 = np.array([[2], [0.5]])\n",
    "res = vec_log_gradient(x1, y1, theta1)\n",
    "# Output:\n",
    "expected = np.array([[-0.01798621], [-0.07194484]])\n",
    "print(\"my vec log gradient =\".ljust(30), res.reshape(1, -1))\n",
    "print(\"expected vec log gradient =\".ljust(30), expected.reshape(1, -1))\n",
    "\n",
    "print(\"\\n# Example 2:\")\n",
    "y2 = np.array([[1], [0], [1], [0], [1]])\n",
    "x2 = np.array([[4], [7.16], [3.2], [9.37], [0.56]])\n",
    "theta2 = np.array([[2], [0.5]])\n",
    "res = vec_log_gradient(x2, y2, theta2)\n",
    "# Output:\n",
    "expected = np.array([[0.3715235], [3.25647547]])\n",
    "print(\"my vec log gradient =\".ljust(30), res.reshape(1, -1))\n",
    "print(\"expected vec log gradient =\".ljust(30), expected.reshape(1, -1))\n",
    "\n",
    "print(\"\\n# Example 3:\")\n",
    "y3 = np.array([[0], [1], [1]])\n",
    "x3 = np.array([[0, 2, 3, 4], [2, 4, 5, 5], [1, 3, 2, 7]])\n",
    "theta3 = np.array([[-2.4], [-1.5], [0.3], [-1.4], [0.7]])\n",
    "res = vec_log_gradient(x3, y3, theta3)\n",
    "# Output:\n",
    "expected = np.array([[-0.55711039],\n",
    "                     [-0.90334809],\n",
    "                     [-2.01756886],\n",
    "                     [-2.10071291],\n",
    "                     [-3.27257351]])\n",
    "print(\"my vec log gradient =\".ljust(30), res.reshape(1, -1))\n",
    "print(\"expected vec log gradient =\".ljust(30), expected.reshape(1, -1))\n"
   ]
  },
  {
   "cell_type": "markdown",
   "id": "1570de11-0658-485e-b62e-d38f1330a0cc",
   "metadata": {},
   "source": [
    "# Exercise 06: ___"
   ]
  },
  {
   "cell_type": "code",
   "execution_count": 1,
   "id": "11b829a2-fb9b-40c0-9024-89f4ab6d1a30",
   "metadata": {},
   "outputs": [
    {
     "name": "stdout",
     "output_type": "stream",
     "text": [
      "# Example 0:\n"
     ]
    },
    {
     "ename": "AttributeError",
     "evalue": "'NoneType' object has no attribute 'reshape'",
     "output_type": "error",
     "traceback": [
      "\u001b[0;31m---------------------------------------------------------------------------\u001b[0m",
      "\u001b[0;31mAttributeError\u001b[0m                            Traceback (most recent call last)",
      "Input \u001b[0;32mIn [1]\u001b[0m, in \u001b[0;36m<module>\u001b[0;34m\u001b[0m\n\u001b[1;32m     11\u001b[0m \u001b[38;5;66;03m# Output:\u001b[39;00m\n\u001b[1;32m     12\u001b[0m expected \u001b[38;5;241m=\u001b[39m np\u001b[38;5;241m.\u001b[39marray([[\u001b[38;5;241m0.99930437\u001b[39m], [\u001b[38;5;241m1.\u001b[39m], [\u001b[38;5;241m1.\u001b[39m]])\n\u001b[0;32m---> 13\u001b[0m \u001b[38;5;28mprint\u001b[39m(\u001b[38;5;124m\"\u001b[39m\u001b[38;5;124mmy prediction:\u001b[39m\u001b[38;5;124m\"\u001b[39m\u001b[38;5;241m.\u001b[39mljust(\u001b[38;5;241m25\u001b[39m), \u001b[43mmy_res\u001b[49m\u001b[38;5;241;43m.\u001b[39;49m\u001b[43mreshape\u001b[49m(\u001b[38;5;241m1\u001b[39m, \u001b[38;5;241m-\u001b[39m\u001b[38;5;241m1\u001b[39m))\n\u001b[1;32m     14\u001b[0m \u001b[38;5;28mprint\u001b[39m(\u001b[38;5;124m\"\u001b[39m\u001b[38;5;124mexpected prediction:\u001b[39m\u001b[38;5;124m\"\u001b[39m\u001b[38;5;241m.\u001b[39mljust(\u001b[38;5;241m25\u001b[39m), my_res\u001b[38;5;241m.\u001b[39mreshape(\u001b[38;5;241m1\u001b[39m, \u001b[38;5;241m-\u001b[39m\u001b[38;5;241m1\u001b[39m))\n\u001b[1;32m     16\u001b[0m \u001b[38;5;28mprint\u001b[39m(\u001b[38;5;124m\"\u001b[39m\u001b[38;5;124m# Example 1:\u001b[39m\u001b[38;5;124m\"\u001b[39m)\n",
      "\u001b[0;31mAttributeError\u001b[0m: 'NoneType' object has no attribute 'reshape'"
     ]
    }
   ],
   "source": [
    "import numpy as np\n",
    "from ex06.my_logistic_regression import MyLogisticRegression\n",
    "\n",
    "X = np.array([[1., 1., 2., 3.], [5., 8., 13., 21.], [3., 5., 9., 14.]])\n",
    "Y = np.array([[1], [0], [1]])\n",
    "    \n",
    "mylr = MyLogisticRegression([2, 0.5, 7.1, -4.3, 2.09])\n",
    "    \n",
    "print(\"# Example 0:\")\n",
    "my_res = mylr.predict_(X)\n",
    "# Output:\n",
    "expected = np.array([[0.99930437], [1.], [1.]])\n",
    "print(\"my prediction:\".ljust(25), my_res.reshape(1, -1))\n",
    "print(\"expected prediction:\".ljust(25), my_res.reshape(1, -1))\n",
    "    \n",
    "print(\"# Example 1:\")\n",
    "my_res = mylr.loss_(X,Y)\n",
    "# Output:\n",
    "expected = 11.513157421577004\n",
    "print(\"my loss:\".ljust(25), my_res.reshape(1, -1))\n",
    "print(\"expected loss:\".ljust(25), my_res.reshape(1, -1))\n",
    "    \n",
    "print(\"# Example 2:\")\n",
    "mylr.fit_(X, Y)\n",
    "my_res = mylr.theta\n",
    "# Output:\n",
    "expected = np.array([[1.04565272],\n",
    "                     [0.62555148],\n",
    "                     [0.38387466],\n",
    "                     [0.15622435],\n",
    "                     [-0.45990099]])\n",
    "print(\"my theta after fit:\".ljust(25), my_res.reshape(1, -1))\n",
    "print(\"expected theta after fit:\".ljust(25), my_res.reshape(1, -1))\n",
    "\n",
    "print(\"# Example 3:\")\n",
    "my_res = mylr.predict_(X)\n",
    "# Output:\n",
    "expected = np.array([[0.72865802],\n",
    "                     [0.40550072],\n",
    "                     [0.45241588]])\n",
    "print(\"my prediction:\".ljust(25), my_res.reshape(1, -1))\n",
    "print(\"expected prediction:\".ljust(25), my_res.reshape(1, -1))\n",
    "\n",
    "print(\"# Example 4:\")\n",
    "my_res = mylr.loss_(X,Y)\n",
    "# Output:\n",
    "expected = 0.5432466580663214\n",
    "print(\"my loss:\".ljust(25), my_res.reshape(1, -1))\n",
    "print(\"expected loss:\".ljust(25), my_res.reshape(1, -1))"
   ]
  },
  {
   "cell_type": "code",
   "execution_count": 60,
   "id": "2405f132",
   "metadata": {},
   "outputs": [
    {
     "name": "stdout",
     "output_type": "stream",
     "text": [
      "y =  [[0 3 2 0 1 0 3 3 1 3 0 2 3 1 2 0 1 2 3 1]]\n",
      "y_bin =  [[0 0 1 0 0 0 0 0 0 0 0 1 0 0 1 0 0 1 0 0]]\n"
     ]
    }
   ],
   "source": [
    "y = np.random.randint(0, 4, size=(1, 20))\n",
    "\n",
    "y_bin = np.zeros(y.shape, dtype='int8')\n",
    "\n",
    "y_bin[np.where(y == 2)] = 1\n",
    "\n",
    "print(\"y = \", y)\n",
    "print(\"y_bin = \", y_bin)"
   ]
  },
  {
   "cell_type": "markdown",
   "id": "ebc647bc-d932-4294-a97d-d7c86ee65aa0",
   "metadata": {},
   "source": [
    "# Exercise 07: ___"
   ]
  },
  {
   "cell_type": "code",
   "execution_count": 54,
   "id": "7a44aca3-d45d-4d5b-a183-8cb24da86788",
   "metadata": {},
   "outputs": [
    {
     "data": {
      "text/html": [
       "<div>\n",
       "<style scoped>\n",
       "    .dataframe tbody tr th:only-of-type {\n",
       "        vertical-align: middle;\n",
       "    }\n",
       "\n",
       "    .dataframe tbody tr th {\n",
       "        vertical-align: top;\n",
       "    }\n",
       "\n",
       "    .dataframe thead th {\n",
       "        text-align: right;\n",
       "    }\n",
       "</style>\n",
       "<table border=\"1\" class=\"dataframe\">\n",
       "  <thead>\n",
       "    <tr style=\"text-align: right;\">\n",
       "      <th></th>\n",
       "      <th>height</th>\n",
       "      <th>weight</th>\n",
       "      <th>bone_density</th>\n",
       "    </tr>\n",
       "  </thead>\n",
       "  <tbody>\n",
       "    <tr>\n",
       "      <th>0</th>\n",
       "      <td>172.274151</td>\n",
       "      <td>86.970349</td>\n",
       "      <td>1.018098</td>\n",
       "    </tr>\n",
       "    <tr>\n",
       "      <th>1</th>\n",
       "      <td>198.977479</td>\n",
       "      <td>104.855553</td>\n",
       "      <td>0.697414</td>\n",
       "    </tr>\n",
       "    <tr>\n",
       "      <th>2</th>\n",
       "      <td>207.119681</td>\n",
       "      <td>87.401047</td>\n",
       "      <td>0.723361</td>\n",
       "    </tr>\n",
       "    <tr>\n",
       "      <th>3</th>\n",
       "      <td>184.642721</td>\n",
       "      <td>63.142295</td>\n",
       "      <td>0.547739</td>\n",
       "    </tr>\n",
       "    <tr>\n",
       "      <th>4</th>\n",
       "      <td>179.384814</td>\n",
       "      <td>67.523257</td>\n",
       "      <td>1.076022</td>\n",
       "    </tr>\n",
       "  </tbody>\n",
       "</table>\n",
       "</div>"
      ],
      "text/plain": [
       "       height      weight  bone_density\n",
       "0  172.274151   86.970349      1.018098\n",
       "1  198.977479  104.855553      0.697414\n",
       "2  207.119681   87.401047      0.723361\n",
       "3  184.642721   63.142295      0.547739\n",
       "4  179.384814   67.523257      1.076022"
      ]
     },
     "execution_count": 54,
     "metadata": {},
     "output_type": "execute_result"
    }
   ],
   "source": [
    "import numpy as np\n",
    "import pandas as pd\n",
    "# from ex07.mono_log import \n",
    "# from ex07.multi_log import \n",
    "\n",
    "x = pd.read_csv(\"ex07/solar_system_census.csv\", index_col=0)\n",
    "y = pd.read_csv(\"ex07/solar_system_census.csv\", index_col=0)\n"
   ]
  },
  {
   "cell_type": "markdown",
   "id": "0acd57e0-4851-4cd9-a536-af06afcf81ef",
   "metadata": {},
   "source": [
    "# Exercise 08: ___"
   ]
  },
  {
   "cell_type": "code",
   "execution_count": 48,
   "id": "1b8c067f",
   "metadata": {},
   "outputs": [
    {
     "name": "stdout",
     "output_type": "stream",
     "text": [
      "u =  ['bird' 'cat' 'dog']\n",
      "y =  ['dog' 'cat' 'dog' 'bird' 'bird' 'dog' 'dog' 'dog' 'cat' 'bird']\n",
      "yhat =  ['dog' 'dog' 'cat' 'dog' 'cat' 'dog' 'cat' 'cat' 'cat' 'dog']\n",
      "y_encoded =  [2 1 2 0 0 2 2 2 1 0]\n",
      "yhat_encoded =  [2. 2. 1. 2. 1. 2. 1. 1. 1. 2.]\n"
     ]
    }
   ],
   "source": [
    "import numpy as np\n",
    "\n",
    "val1 = np.random.randint(0, 3, size=(10,))\n",
    "val2 = np.random.randint(0, 2, size=(10,))\n",
    "\n",
    "l_str = ['cat', 'dog', 'bird']\n",
    "\n",
    "y = np.array([l_str[ii] for ii in val1])\n",
    "yhat = np.array([l_str[ii] for ii in val2])\n",
    "y.dtype.kind\n",
    "\n",
    "u, y_encoded = np.unique(y, return_inverse=True)\n",
    "\n",
    "masks = [np.where(yhat == label) for label in u]\n",
    "y_hat_encoded = np.zeros(y_encoded.shape)\n",
    "for ii, mask in enumerate(masks):\n",
    "    y_hat_encoded[mask] = ii\n",
    "\n",
    "print('u = ', u)\n",
    "print('y = ', y)\n",
    "print('yhat = ', yhat)\n",
    "print('y_encoded = ', y_encoded)\n",
    "print('yhat_encoded = ', y_hat_encoded)"
   ]
  },
  {
   "cell_type": "code",
   "execution_count": 4,
   "id": "2016b89a-fde1-406e-a010-09b35eaaf295",
   "metadata": {},
   "outputs": [
    {
     "ename": "SyntaxError",
     "evalue": "invalid syntax (other_metrics.py, line 63)",
     "output_type": "error",
     "traceback": [
      "Traceback \u001b[0;36m(most recent call last)\u001b[0m:\n",
      "  File \u001b[1;32m/goinfre/mdavid/v_bootcamp/lib/python3.8/site-packages/IPython/core/interactiveshell.py:3251\u001b[0m in \u001b[1;35mrun_code\u001b[0m\n    exec(code_obj, self.user_global_ns, self.user_ns)\n",
      "\u001b[0;36m  Input \u001b[0;32mIn [4]\u001b[0;36m in \u001b[0;35m<module>\u001b[0;36m\u001b[0m\n\u001b[0;31m    from ex08.other_metrics import accuracy_score_, precision_score_, recall_score_, f1_score_\u001b[0m\n",
      "\u001b[0;36m  File \u001b[0;32m/sgoinfre/goinfre/Perso/mdavid/bootcamp_ml_vgsph/module03/ex08/other_metrics.py:63\u001b[0;36m\u001b[0m\n\u001b[0;31m    s =\u001b[0m\n\u001b[0m        ^\u001b[0m\n\u001b[0;31mSyntaxError\u001b[0m\u001b[0;31m:\u001b[0m invalid syntax\n"
     ]
    }
   ],
   "source": [
    "import numpy as np\n",
    "from sklearn.metrics import accuracy_score, precision_score, recall_score, f1_score\n",
    "from ex08.other_metrics import accuracy_score_, precision_score_, recall_score_, f1_score_\n",
    "\n",
    "# Example 1:\n",
    "y_hat = np.array([[1],[ 1],[ 0],[ 1],[ 0],[ 0],[ 1],[ 1]])\n",
    "y = np.array([[1],[ 0],[ 0],[ 1],[ 0],[ 1],[ 0],[ 0]])\n",
    "# Accuracy\n",
    "## your implementation\n",
    "accuracy_score_(y, y_hat)\n",
    "## Output:\n",
    "0.5\n",
    "## sklearn implementation\n",
    "accuracy_score(y, y_hat)\n",
    "## Output:\n",
    "0.5\n",
    "# Precision\n",
    "## your implementation\n",
    "precision_score_(y, y_hat)\n",
    "## Output:\n",
    "0.4\n",
    "## sklearn implementation\n",
    "precision_score(y, y_hat)\n",
    "## Output:\n",
    "0.4\n",
    "# Recall\n",
    "## your implementation\n",
    "recall_score_(y, y_hat)\n",
    "## Output:\n",
    "0.6666666666666666\n",
    "## sklearn implementation\n",
    "recall_score(y, y_hat)\n",
    "## Output:\n",
    "0.6666666666666666\n",
    "# F1-score\n",
    "## your implementation\n",
    "f1_score_(y, y_hat)\n",
    "## Output:\n",
    "0.5\n",
    "## sklearn implementation\n",
    "f1_score(y, y_hat)\n",
    "## Output:\n",
    "0.5\n",
    "\n",
    "# Example 2:\n",
    "y_hat = np.array(['norminet', 'dog', 'norminet', 'norminet', 'dog', 'dog', 'dog', 'dog'])\n",
    "y = np.array(['dog', 'dog', 'norminet', 'norminet', 'dog', 'norminet', 'dog', 'norminet'])\n",
    "# Accuracy\n",
    "## your implementation\n",
    "accuracy_score_(y, y_hat)\n",
    "## Output:\n",
    "0.625\n",
    "## sklearn implementation\n",
    "accuracy_score(y, y_hat)\n",
    "## Output:\n",
    "0.625\n",
    "# Precision\n",
    "## your implementation\n",
    "precision_score_(y, y_hat, pos_label='dog')\n",
    "## Output:\n",
    "0.6\n",
    "## sklearn implementation\n",
    "precision_score(y, y_hat, pos_label='dog')\n",
    "## Output:\n",
    "0.6\n",
    "# Recall\n",
    "## your implementation\n",
    "recall_score_(y, y_hat, pos_label='dog')\n",
    "## Output:\n",
    "0.75\n",
    "## sklearn implementation\n",
    "recall_score(y, y_hat, pos_label='dog')\n",
    "## Output:\n",
    "0.75\n",
    "# F1-score\n",
    "## your implementation\n",
    "f1_score_(y, y_hat, pos_label='dog')\n",
    "## Output:\n",
    "0.6666666666666665\n",
    "## sklearn implementation\n",
    "f1_score(y, y_hat, pos_label='dog')\n",
    "## Output:\n",
    "0.6666666666666665"
   ]
  },
  {
   "cell_type": "markdown",
   "id": "71c0464d-72b2-40fe-8f5b-1a163e25c2f5",
   "metadata": {},
   "source": [
    "# Exercise 09: ___"
   ]
  },
  {
   "cell_type": "code",
   "execution_count": null,
   "id": "fef0116d",
   "metadata": {},
   "outputs": [],
   "source": []
  },
  {
   "cell_type": "code",
   "execution_count": null,
   "id": "24eb4213-14a2-4762-8dd8-29ffcf3efb64",
   "metadata": {},
   "outputs": [],
   "source": [
    "import numpy as np\n",
    "from ex09.confusion_matrix import confusion_matrix_"
   ]
  }
 ],
 "metadata": {
  "kernelspec": {
   "display_name": "Python 3 (ipykernel)",
   "language": "python",
   "name": "python3"
  },
  "language_info": {
   "codemirror_mode": {
    "name": "ipython",
    "version": 3
   },
   "file_extension": ".py",
   "mimetype": "text/x-python",
   "name": "python",
   "nbconvert_exporter": "python",
   "pygments_lexer": "ipython3",
   "version": "3.8.10"
  }
 },
 "nbformat": 4,
 "nbformat_minor": 5
}
