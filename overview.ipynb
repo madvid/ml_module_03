{
 "cells": [
  {
   "cell_type": "markdown",
   "id": "52acd02b-b82c-42e1-9821-c3b5cbd63043",
   "metadata": {},
   "source": [
    "# Module 03: Logistic Regression"
   ]
  },
  {
   "cell_type": "markdown",
   "id": "ebb5f0a0-9b73-4939-8470-43a746f7c89b",
   "metadata": {},
   "source": [
    "# Exercise 00: sigmoid"
   ]
  },
  {
   "cell_type": "code",
   "execution_count": null,
   "id": "70e4a944-93b4-461a-bed2-382b3e5b217c",
   "metadata": {},
   "outputs": [],
   "source": []
  },
  {
   "cell_type": "markdown",
   "id": "52f735d9-d450-4086-a741-41bc465fecd2",
   "metadata": {},
   "source": [
    "# Exercise 01: ___"
   ]
  },
  {
   "cell_type": "code",
   "execution_count": null,
   "id": "a9ecf30d-4a78-42ff-a0b4-f925e3942d90",
   "metadata": {},
   "outputs": [],
   "source": []
  },
  {
   "cell_type": "markdown",
   "id": "8ff9d49e-2ad7-4241-9886-b874d4d12923",
   "metadata": {},
   "source": [
    "# Exercise 02: ___"
   ]
  },
  {
   "cell_type": "code",
   "execution_count": null,
   "id": "c97a6b38-cfac-4244-b033-7d151bef74e6",
   "metadata": {},
   "outputs": [],
   "source": []
  },
  {
   "cell_type": "markdown",
   "id": "f445776d-3f6c-4ea6-8b03-4f782ef829d1",
   "metadata": {},
   "source": [
    "# Exercise 03: ___"
   ]
  },
  {
   "cell_type": "code",
   "execution_count": null,
   "id": "782a26ce-79b0-4d9e-85ea-f4f24e423d8a",
   "metadata": {},
   "outputs": [],
   "source": []
  },
  {
   "cell_type": "markdown",
   "id": "06eb309b-5f84-4fd7-bbaa-68ea1e062b20",
   "metadata": {},
   "source": [
    "# Exercise 04: ___"
   ]
  },
  {
   "cell_type": "code",
   "execution_count": null,
   "id": "7f9372e9-4007-462e-8403-d6b5f345c4d3",
   "metadata": {},
   "outputs": [],
   "source": []
  },
  {
   "cell_type": "markdown",
   "id": "9a9ee4d1-b1f9-4f60-b949-9088da3e2e5b",
   "metadata": {},
   "source": [
    "# Exercise 05: ___"
   ]
  },
  {
   "cell_type": "code",
   "execution_count": null,
   "id": "4316c11c-f15b-4b98-ad1d-822cbc86c4c4",
   "metadata": {},
   "outputs": [],
   "source": []
  },
  {
   "cell_type": "markdown",
   "id": "1570de11-0658-485e-b62e-d38f1330a0cc",
   "metadata": {},
   "source": [
    "# Exercise 06: ___"
   ]
  },
  {
   "cell_type": "code",
   "execution_count": null,
   "id": "11b829a2-fb9b-40c0-9024-89f4ab6d1a30",
   "metadata": {},
   "outputs": [],
   "source": []
  },
  {
   "cell_type": "markdown",
   "id": "ebc647bc-d932-4294-a97d-d7c86ee65aa0",
   "metadata": {},
   "source": [
    "# Exercise 07: ___"
   ]
  },
  {
   "cell_type": "code",
   "execution_count": null,
   "id": "7a44aca3-d45d-4d5b-a183-8cb24da86788",
   "metadata": {},
   "outputs": [],
   "source": []
  },
  {
   "cell_type": "markdown",
   "id": "0acd57e0-4851-4cd9-a536-af06afcf81ef",
   "metadata": {},
   "source": [
    "# Exercise 08: ___"
   ]
  },
  {
   "cell_type": "code",
   "execution_count": null,
   "id": "2016b89a-fde1-406e-a010-09b35eaaf295",
   "metadata": {},
   "outputs": [],
   "source": []
  },
  {
   "cell_type": "markdown",
   "id": "71c0464d-72b2-40fe-8f5b-1a163e25c2f5",
   "metadata": {},
   "source": [
    "# Exercise 09: ___"
   ]
  },
  {
   "cell_type": "code",
   "execution_count": null,
   "id": "24eb4213-14a2-4762-8dd8-29ffcf3efb64",
   "metadata": {},
   "outputs": [],
   "source": []
  }
 ],
 "metadata": {
  "kernelspec": {
   "display_name": "Python 3 (ipykernel)",
   "language": "python",
   "name": "python3"
  },
  "language_info": {
   "codemirror_mode": {
    "name": "ipython",
    "version": 3
   },
   "file_extension": ".py",
   "mimetype": "text/x-python",
   "name": "python",
   "nbconvert_exporter": "python",
   "pygments_lexer": "ipython3",
   "version": "3.8.10"
  }
 },
 "nbformat": 4,
 "nbformat_minor": 5
}
