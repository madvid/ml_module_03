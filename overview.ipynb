{
 "cells": [
  {
   "cell_type": "markdown",
   "id": "52acd02b-b82c-42e1-9821-c3b5cbd63043",
   "metadata": {},
   "source": [
    "# Module 03: Logistic Regression"
   ]
  },
  {
   "cell_type": "markdown",
   "id": "ebb5f0a0-9b73-4939-8470-43a746f7c89b",
   "metadata": {},
   "source": [
    "# Exercise 00: sigmoid"
   ]
  },
  {
   "cell_type": "code",
   "execution_count": 1,
   "id": "70e4a944-93b4-461a-bed2-382b3e5b217c",
   "metadata": {},
   "outputs": [
    {
     "name": "stdout",
     "output_type": "stream",
     "text": [
      "# Example 1:\n",
      "Calculated sigmoid:       [[0.01798621]]\n",
      "Expected result:          [[0.01798621]]\n",
      "\n",
      "# Example 2:\n",
      "Calculated sigmoid:       [[0.88079708]]\n",
      "Expected result:          [[0.88079708]]\n",
      "\n",
      "# Example 3:\n",
      "Calculated sigmoid:       [[0.01798621 0.88079708 0.5       ]]\n",
      "Expected result:          [[0.01798621 0.88079708 0.5       ]]\n"
     ]
    }
   ],
   "source": [
    "import numpy as np\n",
    "from ex00.sigmoid import sigmoid_\n",
    "\n",
    "print(\"# Example 1:\")\n",
    "x = np.array(-4)\n",
    "res = sigmoid_(x)\n",
    "# Output:\n",
    "expected = np.array([[0.01798620996209156]])\n",
    "print(\"Calculated sigmoid:\".ljust(25), res.reshape(1, -1))\n",
    "print(\"Expected result:\".ljust(25), expected.reshape(1, -1))\n",
    "\n",
    "print(\"\\n# Example 2:\")\n",
    "x = np.array(2)\n",
    "res = sigmoid_(x)\n",
    "# Output:\n",
    "expected = np.array([[0.8807970779778823]])\n",
    "print(\"Calculated sigmoid:\".ljust(25), res.reshape(1, -1))\n",
    "print(\"Expected result:\".ljust(25), expected.reshape(1, -1))\n",
    "\n",
    "print(\"\\n# Example 3:\")\n",
    "x = np.array([[-4], [2], [0]])\n",
    "res = sigmoid_(x)\n",
    "# Output:\n",
    "expected = np.array([[0.01798620996209156], [0.8807970779778823], [0.5]])\n",
    "print(\"Calculated sigmoid:\".ljust(25), res.reshape(1, -1))\n",
    "print(\"Expected result:\".ljust(25), expected.reshape(1, -1))"
   ]
  },
  {
   "cell_type": "markdown",
   "id": "52f735d9-d450-4086-a741-41bc465fecd2",
   "metadata": {},
   "source": [
    "# Exercise 01: ___"
   ]
  },
  {
   "cell_type": "code",
   "execution_count": 2,
   "id": "a9ecf30d-4a78-42ff-a0b4-f925e3942d90",
   "metadata": {},
   "outputs": [
    {
     "name": "stdout",
     "output_type": "stream",
     "text": [
      "# Example 1\n",
      "my log pred:              [[0.98201379]]\n",
      "expected log pred:        [[0.98201379]]\n",
      "\n",
      "# Example 1\n",
      "my log pred:              [[0.98201379 0.99624161 0.97340301 0.99875204 0.90720705]]\n",
      "expected log pred:        [[0.98201379 0.99624161 0.97340301 0.99875204 0.90720705]]\n",
      "\n",
      "# Example 2\n",
      "my log pred:              [[0.03916572 0.00045262 0.2890505 ]]\n",
      "expected log pred:        [[0.03916572 0.00045262 0.2890505 ]]\n"
     ]
    }
   ],
   "source": [
    "import numpy as np\n",
    "from ex01.log_pred import logistic_predict_\n",
    "\n",
    "print(\"# Example 1\")\n",
    "x = np.array([[4]])\n",
    "theta = np.array([[2], [0.5]])\n",
    "res = logistic_predict_(x, theta)\n",
    "# Output:\n",
    "expected = np.array([[0.98201379]])\n",
    "print(\"my log pred:\".ljust(25), res.reshape(1, -1))\n",
    "print(\"expected log pred:\".ljust(25), expected.reshape(1, -1))\n",
    "\n",
    "print(\"\\n# Example 1\")\n",
    "x2 = np.array([[4], [7.16], [3.2], [9.37], [0.56]])\n",
    "theta2 = np.array([[2], [0.5]])\n",
    "res = logistic_predict_(x2, theta2)\n",
    "# Output:\n",
    "expected = np.array([[0.98201379],\n",
    "                     [0.99624161],\n",
    "                     [0.97340301],\n",
    "                     [0.99875204],\n",
    "                     [0.90720705]])\n",
    "print(\"my log pred:\".ljust(25), res.reshape(1, -1))\n",
    "print(\"expected log pred:\".ljust(25), expected.reshape(1, -1))\n",
    "\n",
    "print(\"\\n# Example 2\")\n",
    "x3 = np.array([[0, 2, 3, 4],\n",
    "               [2, 4, 5, 5],\n",
    "               [1, 3, 2, 7]])\n",
    "theta3 = np.array([[-2.4],\n",
    "                   [-1.5],\n",
    "                   [0.3],\n",
    "                   [-1.4],\n",
    "                   [0.7]])\n",
    "res = logistic_predict_(x3, theta3)\n",
    "# Output:\n",
    "expected = np.array([[0.03916572],\n",
    "                     [0.00045262],\n",
    "                     [0.2890505]])\n",
    "print(\"my log pred:\".ljust(25), res.reshape(1, -1))\n",
    "print(\"expected log pred:\".ljust(25), expected.reshape(1, -1))"
   ]
  },
  {
   "cell_type": "markdown",
   "id": "8ff9d49e-2ad7-4241-9886-b874d4d12923",
   "metadata": {},
   "source": [
    "# Exercise 02: ___"
   ]
  },
  {
   "cell_type": "code",
   "execution_count": 3,
   "id": "c97a6b38-cfac-4244-b033-7d151bef74e6",
   "metadata": {},
   "outputs": [
    {
     "name": "stdout",
     "output_type": "stream",
     "text": [
      "# Example 1:\n",
      "my log loss =        0.01814992791780973\n",
      "expected log loss =  0.01814992791780973\n",
      "\n",
      "# Example 2:\n",
      "my log loss =        2.4825011602474483\n",
      "expected log loss =  2.4825011602474483\n",
      "\n",
      "# Example 3:\n",
      "my log loss =        2.9938533108607053\n",
      "expected log loss =  2.9938533108607053\n"
     ]
    }
   ],
   "source": [
    "import numpy as np\n",
    "from ex02.log_loss import log_loss_\n",
    "\n",
    "print(\"# Example 1:\")\n",
    "y1 = np.array([[1]])\n",
    "x1 = np.array([[4]])\n",
    "theta1 = np.array([[2], [0.5]])\n",
    "y_hat1 = logistic_predict_(x1, theta1)\n",
    "res = log_loss_(y1, y_hat1)\n",
    "# Output:\n",
    "expected = 0.01814992791780973\n",
    "print(\"my log loss =\".ljust(20), res)\n",
    "print(\"expected log loss =\".ljust(20), expected)\n",
    "\n",
    "print(\"\\n# Example 2:\")\n",
    "y2 = np.array([[1], [0], [1], [0], [1]])\n",
    "x2 = np.array([[4], [7.16], [3.2], [9.37], [0.56]])\n",
    "theta2 = np.array([[2], [0.5]])\n",
    "y_hat2 = logistic_predict_(x2, theta2)\n",
    "res = log_loss_(y2, y_hat2)\n",
    "# Output:\n",
    "expected = 2.4825011602474483\n",
    "print(\"my log loss =\".ljust(20), res)\n",
    "print(\"expected log loss =\".ljust(20), expected)\n",
    "\n",
    "print(\"\\n# Example 3:\")\n",
    "y3 = np.array([[0], [1], [1]])\n",
    "x3 = np.array([[0, 2, 3, 4], [2, 4, 5, 5], [1, 3, 2, 7]])\n",
    "theta3 = np.array([[-2.4], [-1.5], [0.3], [-1.4], [0.7]])\n",
    "y_hat3 = logistic_predict_(x3, theta3)\n",
    "res = log_loss_(y3, y_hat3)\n",
    "# Output:\n",
    "expected = 2.9938533108607053\n",
    "print(\"my log loss =\".ljust(20), res)\n",
    "print(\"expected log loss =\".ljust(20), expected)"
   ]
  },
  {
   "cell_type": "markdown",
   "id": "f445776d-3f6c-4ea6-8b03-4f782ef829d1",
   "metadata": {},
   "source": [
    "# Exercise 03: ___"
   ]
  },
  {
   "cell_type": "code",
   "execution_count": null,
   "id": "782a26ce-79b0-4d9e-85ea-f4f24e423d8a",
   "metadata": {},
   "outputs": [],
   "source": [
    "import numpy as np\n",
    "from ex03.vec_log_loss import vec_log_loss_\n",
    "\n",
    "print(\"# Example 1:\")\n",
    "y1 = np.array([[1]])\n",
    "x1 = np.array([[4]])\n",
    "theta1 = np.array([[2], [0.5]])\n",
    "y_hat1 = logistic_predict_(x1, theta1)\n",
    "res = vec_log_loss_(y1, y_hat1)\n",
    "# Output:\n",
    "expected = 0.01814992791780973\n",
    "print(\"my log loss =\".ljust(20), res)\n",
    "print(\"expected log loss =\".ljust(20), expected)\n",
    "\n",
    "print(\"\\n# Example 2:\")\n",
    "y2 = np.array([[1], [0], [1], [0], [1]])\n",
    "x2 = np.array([[4], [7.16], [3.2], [9.37], [0.56]])\n",
    "theta2 = np.array([[2], [0.5]])\n",
    "y_hat2 = logistic_predict_(x2, theta2)\n",
    "res = vec_log_loss_(y2, y_hat2)\n",
    "# Output:\n",
    "expected = 2.4825011602474483\n",
    "print(\"my log loss =\".ljust(20), res)\n",
    "print(\"expected log loss =\".ljust(20), expected)\n",
    "\n",
    "print(\"\\n# Example 3:\")\n",
    "y3 = np.array([[0], [1], [1]])\n",
    "x3 = np.array([[0, 2, 3, 4], [2, 4, 5, 5], [1, 3, 2, 7]])\n",
    "theta3 = np.array([[-2.4], [-1.5], [0.3], [-1.4], [0.7]])\n",
    "y_hat3 = logistic_predict_(x3, theta3)\n",
    "res = vec_log_loss_(y3, y_hat3)\n",
    "# Output:\n",
    "expected = 2.9938533108607053\n",
    "print(\"my log loss =\".ljust(20), res)\n",
    "print(\"expected log loss =\".ljust(20), expected)"
   ]
  },
  {
   "cell_type": "markdown",
   "id": "06eb309b-5f84-4fd7-bbaa-68ea1e062b20",
   "metadata": {},
   "source": [
    "# Exercise 04: ___"
   ]
  },
  {
   "cell_type": "code",
   "execution_count": null,
   "id": "7f9372e9-4007-462e-8403-d6b5f345c4d3",
   "metadata": {},
   "outputs": [],
   "source": [
    "import numpy as np\n",
    "from ex04.log_gradient import log_gradient"
   ]
  },
  {
   "cell_type": "markdown",
   "id": "9a9ee4d1-b1f9-4f60-b949-9088da3e2e5b",
   "metadata": {},
   "source": [
    "# Exercise 05: ___"
   ]
  },
  {
   "cell_type": "code",
   "execution_count": null,
   "id": "4316c11c-f15b-4b98-ad1d-822cbc86c4c4",
   "metadata": {},
   "outputs": [],
   "source": [
    "import numpy as np\n",
    "from ex05.vec_log_gradient import vec_log_gradient"
   ]
  },
  {
   "cell_type": "markdown",
   "id": "1570de11-0658-485e-b62e-d38f1330a0cc",
   "metadata": {},
   "source": [
    "# Exercise 06: ___"
   ]
  },
  {
   "cell_type": "code",
   "execution_count": null,
   "id": "11b829a2-fb9b-40c0-9024-89f4ab6d1a30",
   "metadata": {},
   "outputs": [],
   "source": [
    "import numpy as np\n",
    "from ex06.my_logistic_regression import MyLogisticRegression"
   ]
  },
  {
   "cell_type": "markdown",
   "id": "ebc647bc-d932-4294-a97d-d7c86ee65aa0",
   "metadata": {},
   "source": [
    "# Exercise 07: ___"
   ]
  },
  {
   "cell_type": "code",
   "execution_count": null,
   "id": "7a44aca3-d45d-4d5b-a183-8cb24da86788",
   "metadata": {},
   "outputs": [],
   "source": [
    "import numpy as np\n",
    "from ex07.mono_log import \n",
    "from ex07.multi_log import "
   ]
  },
  {
   "cell_type": "markdown",
   "id": "0acd57e0-4851-4cd9-a536-af06afcf81ef",
   "metadata": {},
   "source": [
    "# Exercise 08: ___"
   ]
  },
  {
   "cell_type": "code",
   "execution_count": null,
   "id": "2016b89a-fde1-406e-a010-09b35eaaf295",
   "metadata": {},
   "outputs": [],
   "source": [
    "import numpy as np\n",
    "from ex08.other_metrics import accuracy_score_, precision_score_, recall_score_, f1_score_"
   ]
  },
  {
   "cell_type": "markdown",
   "id": "71c0464d-72b2-40fe-8f5b-1a163e25c2f5",
   "metadata": {},
   "source": [
    "# Exercise 09: ___"
   ]
  },
  {
   "cell_type": "code",
   "execution_count": null,
   "id": "24eb4213-14a2-4762-8dd8-29ffcf3efb64",
   "metadata": {},
   "outputs": [],
   "source": [
    "import numpy as np\n",
    "from ex09.confusion_matrix import confusion_matrix_"
   ]
  }
 ],
 "metadata": {
  "kernelspec": {
   "display_name": "Python 3 (ipykernel)",
   "language": "python",
   "name": "python3"
  },
  "language_info": {
   "codemirror_mode": {
    "name": "ipython",
    "version": 3
   },
   "file_extension": ".py",
   "mimetype": "text/x-python",
   "name": "python",
   "nbconvert_exporter": "python",
   "pygments_lexer": "ipython3",
   "version": "3.8.10"
  }
 },
 "nbformat": 4,
 "nbformat_minor": 5
}
